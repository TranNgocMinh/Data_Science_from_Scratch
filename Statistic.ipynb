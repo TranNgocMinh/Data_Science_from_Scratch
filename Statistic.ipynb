{
 "cells": [
  {
   "attachments": {},
   "cell_type": "markdown",
   "metadata": {},
   "source": [
    "# Nhập môn thống kê với Python\n",
    "### Mô tả một tập dữ liệu\n",
    "Giả sử rằng bạn chạy 100 m trong sáu lần, mỗi lần chạy bạn dùng đồng hồ đo lại thời gian chạy (tính bằng giây) và kết quả 6 lần chạy của bạn gồm sáu giá trị (còn gọi là quan sát). Một phương pháp được dùng trong thống kê là sử dụng bảng thu thập dữ liệu như sau:\n",
    "![1.png](https://cldup.com/ce5pxlT19Z-2000x2000.png)\n",
    "Để thấy được mối quan hệ giữa các dữ liệu một cách trực quan, chúng ta có thể tạo một biểu đồ cột \n",
    "![2.png](https://cldup.com/skKctyxVB6-2000x2000.png)\n",
    "Biểu đồ cột trên có thể được tạo bằng cách dùng thư viện [matplotlib](https://matplotlib.org/) như sau:"
   ]
  },
  {
   "cell_type": "code",
   "execution_count": 11,
   "metadata": {
    "scrolled": true
   },
   "outputs": [
    {
     "data": {
      "image/png": "[encoded data removed]",
      "text/plain": [
       "<matplotlib.figure.Figure at 0x1d6853e8e48>"
      ]
     },
     "metadata": {},
     "output_type": "display_data"
    }
   ],
   "source": [
    "# Vẽ biểu đồ thống kê số giây sau mỗi lần chạy\n",
    "from matplotlib import pyplot as plt\n",
    "Lan_chay = [1,2,3,4,5,6]\n",
    "So_giay = [25.1, 21.2, 17.9, 23.0, 24.6, 19.5]\n",
    "xs = [i + 0.1 for i, _ in enumerate(Lan_chay)]\n",
    "plt.bar(xs, So_giay)\n",
    "plt.ylabel(\"Số giây\")\n",
    "plt.xlabel(\"Lần chạy\")\n",
    "plt.title(\"Thống kê số giây sau mỗi lần chạy\")\n",
    "plt.xticks([i + 0.1 for i, _ in enumerate(Lan_chay)], Lan_chay)\n",
    "plt.show()"
   ]
  },
  {
   "cell_type": "markdown",
   "metadata": {},
   "source": [
    "Từ bảng dữ liệu hay biểu đồ, chúng ta có thể suy ra một số thông tin đơn giản như lần chạy nào có số giây lớn nhất hay nhỏ nhất nhưng chúng ta vẫn cần biết nhiều hơn.\n",
    "## Xu hướng tập trung (Central Tendencies)\n",
    "Một trong những phương pháp đo lường phổ biến dùng trong thống kê là đo lường theo xu hướng tập trung dựa trên 3 tham số  là số trung bình (mean hay average), số trung vị (media) và số mode -  là số có tần suất xuất hiện nhiều nhất trong mẫu.\n",
    "### Mean\n",
    "Mean có thể được tính một cách đơn giản bằng tổng của tất cả các giá trị của dữ liệu trong mẫu chia cho kích thước mẫu.Hàm tính Mean của một mẫu có thể được định nghĩa đơn giản bằng Python như sau:"
   ]
  },
  {
   "cell_type": "code",
   "execution_count": 3,
   "metadata": {},
   "outputs": [
    {
     "name": "stdout",
     "output_type": "stream",
     "text": [
      "21.88333333333333\n"
     ]
    }
   ],
   "source": [
    "Lan_chay = [1,2,3,4,5,6]\n",
    "So_giay = [25.1, 21.2, 17.9, 23.0, 24.6, 19.5]\n",
    "# Định nghĩa hàm tính mean\n",
    "def mean(mau):\n",
    "    return sum(mau)/len(mau)\n",
    "print(mean(So_giay)) # 21.88333333333333"
   ]
  },
  {
   "cell_type": "markdown",
   "metadata": {},
   "source": [
    "### Median\n",
    "Trong lý thuyết xác suất và thống kê, nếu m là số trung vị (Median) của một tập mẫu nào đó thì 1/2 số phần tử trong tập mẫu đó có giá trị nhỏ hơn hay bằng m và một nửa còn lại có giá trị bằng hoặc lớn hơn m.\n",
    "Median được tính như sau: Sắp xếp dữ liệu và lấy giá trị ở giữa. Nếu số giá trị là một số chẳn thì median là trung bình của 2 giá trị ở giữa. Để hiểu hơn về trung vị chúng ta có thể xem xét hai tập mẫu sau:\n",
    "S1 = {7, 3, 2, 4, 3}\n",
    "S2 = {8, 7, 5, 6, 4,3}\n",
    "Trước khi tính trung vị, chúng ta cần sắp xếp dữ liệu theo thứ tự tăng (hay giảm) dần. Tập S1 có thể được viết lại\n",
    "S1 = {2,3,3,4,7}\n",
    "Và S2 có thể được viết lại:\n",
    "S2 = {3,4,5,6,7,8}\n",
    "Như vậy Median(S1) = 3 và Median(S2) = (5+6)/2 = 5.5. Đoạn mã Python sau minh họa hàm tính Median:"
   ]
  },
  {
   "cell_type": "code",
   "execution_count": 5,
   "metadata": {},
   "outputs": [
    {
     "name": "stdout",
     "output_type": "stream",
     "text": [
      "3\n",
      "5.5\n"
     ]
    }
   ],
   "source": [
    "S1 = [7, 3, 2, 4, 3]\n",
    "S2 = [8, 7, 5, 6, 4, 3]\n",
    "# Hàm tính Median của một tập mẫu\n",
    "def median(v):\n",
    "    n = len(v)\n",
    "    # sắp xếp tập mẫu\n",
    "    sorted_v = sorted(v)\n",
    "    midpoint = n // 2\n",
    "    if n % 2 == 1:\n",
    "        # nếu số phần tử của tập mẫu là lẻ thì Median là phần tử ở giữa sau khi \n",
    "        # tập mẫu được sắp xếp\n",
    "        return sorted_v[midpoint]\n",
    "    else:\n",
    "        # nếu số phần tử của tập mẫu là chẵn thì Median là Median của hai phần tử\n",
    "        # ở giữa sau khi tập mẫu được sắp xếp\n",
    "        lo = midpoint - 1\n",
    "        hi = midpoint\n",
    "        return (sorted_v[lo] + sorted_v[hi]) / 2\n",
    "print(median(S1)) # 3\n",
    "print(median(S2)) # 5.5"
   ]
  },
  {
   "cell_type": "markdown",
   "metadata": {},
   "source": [
    "### Quantile\n",
    "Dạng tổng quát của Median là Quantile– là những giá trị (hay điểm cắt (cut points)) chia tập mẫu thành p phần có số phần tử bằng nhau. Khi đó ta có thể gọi các điểm này là p-quantiles. Median 2-quantiles. Một Quantile phổ biến khác dùng trong xác suất và thống kê gọi là Tứ phân vị (quartile) https://vi.wikipedia.org/wiki/T%E1%BB%A9_ph%C3%A2n_v%E1%BB%8B là 4-quantiles. Xem danh sách các quantiles tại https://en.wikipedia.org/wiki/Quantile \n",
    "Hàm Python sau sẽ định nghĩa một hàm quantile trả về một quantile theo tỉ lệ p:"
   ]
  },
  {
   "cell_type": "code",
   "execution_count": 2,
   "metadata": {},
   "outputs": [
    {
     "data": {
      "text/plain": [
       "6"
      ]
     },
     "execution_count": 2,
     "metadata": {},
     "output_type": "execute_result"
    }
   ],
   "source": [
    "S = [3, 6, 7, 8, 8, 9, 10, 13, 15, 16, 20]\n",
    "def quantile(x, p):\n",
    "    p_index = int(p * len(x))\n",
    "    return sorted(x)[p_index]\n",
    "quantile(S, 0.1)"
   ]
  },
  {
   "cell_type": "markdown",
   "metadata": {},
   "source": [
    "### Mode \n",
    "Mode là số có tần suất xuất hiện nhiều nhất trong tập mẫu. Xem xét các tập mẫu và Mode của chúng:\n",
    "S1 = {1, 1, 3, 3, 3, 4}  -> Mode (S1) = 3 vì 3 xuất hiện nhiều nhất trong S1\n",
    "S2 = {1, 2, 3} -> Mode(S2) = {1,2,3} vì các số 1,2,3 có số lần xuất hiện bằng nhau là 1 \n",
    "S3 = {1, 2, 2, 1} -> Mode(S3) = {1,2} vì các số 1,2 có số lần xuất hiện bằng nhau là 2\n",
    "Đoạn mã Python sau định nghĩa hàm mode trả về các phần tử Mode:"
   ]
  },
  {
   "cell_type": "code",
   "execution_count": 28,
   "metadata": {},
   "outputs": [
    {
     "name": "stdout",
     "output_type": "stream",
     "text": [
      "[3]\n",
      "[1, 2, 3]\n",
      "[1, 2]\n"
     ]
    }
   ],
   "source": [
    "from collections import Counter\n",
    "S1 = [1, 1, 3, 3, 3, 4]\n",
    "S2 = [1, 2, 3]\n",
    "S3 = [1, 2, 2, 1]\n",
    "def mode(x):\n",
    "    counts = Counter(x)\n",
    "    max_count = max(counts.values())\n",
    "    return [x_i for x_i, count in counts.items()\n",
    "        if count == max_count]\n",
    "    return 0\n",
    "print(mode(S1)) # [3]\n",
    "print(mode(S2)) # [1,2,3]\n",
    "print(mode(S3))#[1,2]"
   ]
  },
  {
   "cell_type": "markdown",
   "metadata": {},
   "source": [
    "## Đo lường sự biến thiên của dữ liệu (Variation of Data)\n",
    "Để đo lường sự biến thiên hay (thường so với giá trị trung bình) của dữ liệu người ta thường dùng các tham số Range (khoảng biến thiên), Interquartile Range (IQR – Khoảng tứ phân vị), Standard Deviation (độ lệch chuẩn), Variance (phương sai), Standard Error (sai số chuẩn).\n",
    "### Range (Khoảng biến thiên) \n",
    "Được tính bằng cách lấy giá trị lớn nhất  trừ giá trị nhỏ nhất trong mẫu. Đoạn mã Python sau mô tả cách tính Range:"
   ]
  },
  {
   "cell_type": "code",
   "execution_count": 1,
   "metadata": {},
   "outputs": [
    {
     "name": "stdout",
     "output_type": "stream",
     "text": [
      "7.200000000000003\n"
     ]
    }
   ],
   "source": [
    "So_giay = [25.1, 21.2, 17.9, 23.0, 24.6, 19.5]\n",
    "def data_range(x):\n",
    "    return max(x) - min(x)\n",
    "print(data_range(So_giay))"
   ]
  },
  {
   "attachments": {},
   "cell_type": "markdown",
   "metadata": {},
   "source": [
    "### Deviation (độ lệch)\n",
    "Trong thống kê, khi muốn đo lường sự phân tán của dữ liệu so với giá trị trung tâm ta dùng khái niệm độ lệch (deviation). Giả sử ta sử dụng giá trị trung bình làm giá trị trung tâm, khi đó ta có tổng độ lệch của tất cả quan sát với giá trị trung bình trong mẫu có n giá trị là:\n",
    "![4.png](https://cldup.com/1_gclwcaeU-3000x3000.png)\n",
    "Vì các giá trị si có thể lớn, bằng hay nhỏ hơn Mean nên giá trị độ lệch mỗi lần quan sát sẽ có những giá trị âm, dương hay 0 và điều này sẽ dẫn đến kết quả tổng độ lệch d có thể bằng 0. Để tránh sự bất tiện này, chúng ta sẽ dùng giá trị tuyệt đối cho các độ lệch và cũng để không bị ảnh hưởng từ kích thước mẫu chúng ta sẽ dùng công thức tổng độ lệch như sau:\n",
    "![5.png](https://cldup.com/h6NX_KuGQ5-3000x3000.png)\n",
    "Tuy nhiên, vấn đề của giá trị tuyệt đối là tính không liên tục tại gốc tọa độ nên chúng ta sẽ sử dụng các công cụ khác để đo lường sự phân tán của dữ liệu như phương sai (variance) và độ lệch chuẩn (standard deviation).\n",
    "### Phương sai (variance) và độ lệch chuẩn (standard deviation)\n",
    "Trong xác suất thống kê có hai khái niệm cơ bản là population (tạm dịch: quần thể) và sample. Population là một tập hợp có số lượng lớn các cá thể (hay các tên gọi khác như phần tử, thành viên, v.v.) và một sample là một tập con hay tập mẫu của population. Để tiện việc minh họa, các khái niệm hay công thức trong bài viết này được áp dụng trên các sample thay vì population.\n",
    "Vì hạn chế của giá trị tuyệt đối trong công thức tính độ lệch nên chúng ta có thể sử dụng khái niệm phương sai (variance) để đo lường sự phân tán của dữ liệu. Phương sai áp dụng cho tập mẫu (sample) gồm n phần tử gọi là phương sai mẫu (sample variance) có công thức như sau:\n",
    "![6.png](https://cldup.com/VErEhbqy5K-3000x3000.png)\n",
    "Lưu ý rằng, nếu phương sai áp dụng trên tập population có N cá thể thì công thức sẽ là:\n",
    "![7.png](https://cldup.com/B_DCgio2ID-3000x3000.png)\n",
    "Vấn đề dùng (n-1) hay N liên quan đến các khái niệm ước lượng chệch (biased estimator) và ước lượng không chệch (unbiased estimator). Có thể tìm hiểu thêm tại https://stats.stackexchange.com/questions/17890/what-is-the-difference-between-n-and-n-1-in-calculating-population-variance\n",
    "Phương sai là tham số rất tốt để đo lường sự biến thiên (hay phân tán) của dữ liệu trong mẫu vì nó đã quan tâm đến độ lệch của mỗi quan sát so với số trung bình, loại bỏ ảnh hưởng của kích thước mẫu và là hàm mượt. Tuy nhiên, điểm yếu của phương sai là không cùng đơn vị tính với Mean. Đơn vị tính của phương sai là bình phương của đơn vị tính của trung bình. Chẳn hạn, đơn vị tính của thời gian chạy trung bình là giây trong khí đó đơn vị tính của phương sai là giây bình phương. Để giải quyết vấn đề này, người ta lấy căn bậc 2 của phương sai và kết quả này gọi là độ lệch chuẩn (Standard Deviation). Công thức độ lệch chuẩn (áp dụng trên tập mẫu):\n",
    "![8.png](https://cldup.com/xYiN6A8o7X-3000x3000.png)\n",
    "## Tính tương quan (Correlation)\n",
    "Trong lý thuyết xác suất và thống kê, hệ số tương quan (Coefficient Correlation) cho biết độ mạnh của mối quan hệ tuyến tính giữa hai biến số ngẫu nhiên. Từ tương quan (Correlation) được thành lập từ Co- (có nghĩa \"together\") và Relation (quan hệ).\n",
    "Hệ số tương quan giữa 2 biến có thể dương (positive) hoặc âm (negative). Hệ số tương quan dương cho biết rằng giá trị 2 biến tăng cùng nhau còn hệ số tương quan âm thì nếu một biến tăng thì biến kia giảm.\n",
    "Một khái niệm quan trọng khác liên quan đến tính tương quan là hiệp phương sai (covariance). Nếu phương sai dùng để đo lường sự biến thiên của một biến ngẫu nhiên (hay dữ liệu trên một tập mẫu) thì hiệp phương sai đo lường sự biến thiên của hai biến ngẫu nhiên (hay dữ liệu trên hai tập mẫu cùng số cá thể). Công thức hiệp phương sai của hai biến (hay hai tập mẫu có cùng n cá thể) x, y:\n",
    "![9.png](https://cldup.com/BU7VQs5VdH-3000x3000.png)\n",
    "Công thức tính hệ số tương quan dựa trên hiệp phương sai như sau:\n",
    "![10.png](https://cldup.com/03fGbeVD2F-3000x3000.png)\n",
    "Với sdx và sdy tương ứng là độ lệch chuẩn của x và y.Đoạn mã Python dùng để tính hệ số tương quan r như sau:"
   ]
  },
  {
   "cell_type": "code",
   "execution_count": 3,
   "metadata": {
    "scrolled": true
   },
   "outputs": [
    {
     "data": {
      "image/png": "[encoded data removed]",
      "text/plain": [
       "<matplotlib.figure.Figure at 0x1ed0c0e4668>"
      ]
     },
     "metadata": {},
     "output_type": "display_data"
    },
    {
     "name": "stdout",
     "output_type": "stream",
     "text": [
      "0.9575066230015952\n"
     ]
    }
   ],
   "source": [
    "import math\n",
    "from matplotlib import pyplot as plt\n",
    "Lan_chay = [1,2,3,4,5,6]\n",
    "So_giay = [25.1, 21.2, 17.9, 23.0, 24.6, 19.5]\n",
    "Temperature = [14.2, 16.4,11.9, 15.2, 18.5, 22.1, 19.4, 25.1, 23.4, 18.1, 22.6, 17.2]\n",
    "Ice_Cream_Sales = [215, 325, 185, 332, 406, 522, 412, 614, 544, 421, 445, 408]\n",
    "# Tính tổng bình phương \n",
    "def dot(x,y):\n",
    "    return sum(x_i * y_i\n",
    "        for x_i, y_i in zip(x, y))\n",
    "# Tính tổng bình phương \n",
    "def sum_of_squares(s):\n",
    "    return sum(s_i * s_i\n",
    "        for s_i, s_i in zip(s, s))\n",
    "# Định nghĩa hàm tính mean\n",
    "def mean(s):\n",
    "    return sum(s)/len(s)\n",
    "# tính độ lệch\n",
    "def deviation(s):\n",
    "    s_Mean = mean(s)\n",
    "    return [s_i - s_Mean for s_i in s]\n",
    "# tính phương sai mẫu\n",
    "def variance(s):\n",
    "    n = len(s)\n",
    "    d = deviation(s)\n",
    "    return sum_of_squares(d) / (n - 1)\n",
    "# tính độ lệch chuẩn mẫu\n",
    "def standard_deviation(s):\n",
    "    return math.sqrt(variance(s))\n",
    "# tính hiệp phương sai\n",
    "def covariance(x, y):\n",
    "    n = len(x)\n",
    "    return dot(deviation(x), deviation(y)) / (n - 1)\n",
    "# tính hệ số tương quan\n",
    "def correlation(x, y):\n",
    "    stdev_x = standard_deviation(x)\n",
    "    stdev_y = standard_deviation(y)\n",
    "    if stdev_x > 0 and stdev_y > 0:\n",
    "        return covariance(x, y) / (stdev_x * stdev_y)\n",
    "    else:\n",
    "        return 0 \n",
    "plt.scatter(Temperature,Ice_Cream_Sales)\n",
    "plt.show()\n",
    "print(correlation(Temperature, Ice_Cream_Sales))"
   ]
  },
  {
   "attachments": {},
   "cell_type": "markdown",
   "metadata": {
    "collapsed": true
   },
   "source": [
    "Xét một ví dụ về mối tương quan giữa nhiệt độ (Temprature) và doanh số bán kem (Ice Cream Sales) như sau:\n",
    "![11.png](https://cldup.com/peeatJU2JT-3000x3000.png)\n",
    "Chúng ta có thể thấy rõ hơn mối tương quan giữa hai biến này thông qua đồ thị sau:\n",
    "![12.png](https://cldup.com/HiHF9n4uGm-3000x3000.png)\n",
    "Qua đồ thị chúng ta thấy rằng, nhiệt độ càng cao thì doanh số bán kem càng tăng. Hệ số tương quan và đồ thị của hai biến nhiệt độ và doanh số bán kem có thể được mô tả qua các dòng mã Python:\n",
    "```\n",
    "Temperature = [14.2, 16.4,11.9, 15.2, 18.5, 22.1, 19.4, 25.1, 23.4, 18.1, 22.6, 17.2]\n",
    "Ice_Cream_Sales = [215, 325, 185, 332, 406, 522, 412, 614, 544, 421, 445, 408]\n",
    "plt.scatter(Temperature,Ice_Cream_Sales)\n",
    "plt.show()\n",
    "print(correlation(Temperature, Ice_Cream_Sales)) # 0.9575\n",
    "```\n",
    "Hệ số tương quan sẽ xấp xỉ 0.9575.\n",
    "## Kết luận\n",
    "Qua bài viết này chúng ta đã tìm hiểu các khái niệm cơ bản nhất trong thống kê – một lĩnh vực có vai trò quan trọng trong Machine Learning. Bài tiếp theo chúng ta sẽ tìm hiểu các khái niệm trong một lĩnh vực có quan hệ vô cùng mật thiết với thống kê là xác suất và cũng có vai trò cực kỳ quan trọng trong Machine Learning.\n",
    "### Tham khảo\n",
    "* https://www.mv.helsinki.fi/home/jmisotal/BoS.pdf\n",
    "* http://bis.net.vn/forums/t/489.aspx \n",
    "* https://statistics.laerd.com/statistical-guides/measures-of-spread-absolute-deviation-variance.php\n"
   ]
  },
  {
   "cell_type": "code",
   "execution_count": null,
   "metadata": {
    "collapsed": true
   },
   "outputs": [],
   "source": []
  }
 ],
 "metadata": {
  "kernelspec": {
   "display_name": "Python 3",
   "language": "python",
   "name": "python3"
  },
  "language_info": {
   "codemirror_mode": {
    "name": "ipython",
    "version": 3
   },
   "file_extension": ".py",
   "mimetype": "text/x-python",
   "name": "python",
   "nbconvert_exporter": "python",
   "pygments_lexer": "ipython3",
   "version": "3.6.2"
  }
 },
 "nbformat": 4,
 "nbformat_minor": 2
}
